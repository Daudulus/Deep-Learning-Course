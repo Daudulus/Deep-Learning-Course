{
  "nbformat": 4,
  "nbformat_minor": 0,
  "metadata": {
    "colab": {
      "name": "HelloTensorFlow.ipynb",
      "version": "0.3.2",
      "provenance": [],
      "collapsed_sections": []
    },
    "kernelspec": {
      "name": "python3",
      "display_name": "Python 3"
    },
    "accelerator": "TPU"
  },
  "cells": [
    {
      "metadata": {
        "id": "Wl28WsfEQyrE",
        "colab_type": "text"
      },
      "cell_type": "markdown",
      "source": [
        "**Import Numpy and TensorFlow**"
      ]
    },
    {
      "metadata": {
        "id": "9p7E6_7uQRjg",
        "colab_type": "code",
        "colab": {}
      },
      "cell_type": "code",
      "source": [
        "import numpy as np\n",
        "import tensorflow as tf\n",
        "import time"
      ],
      "execution_count": 0,
      "outputs": []
    },
    {
      "metadata": {
        "id": "9-DhUQAtQimJ",
        "colab_type": "text"
      },
      "cell_type": "markdown",
      "source": [
        "**Model Input/Output and Parameters**"
      ]
    },
    {
      "metadata": {
        "id": "0Vtrv11mQaHW",
        "colab_type": "code",
        "colab": {}
      },
      "cell_type": "code",
      "source": [
        "x = tf.placeholder(tf.float32) \n",
        "y = tf.placeholder(tf.float32) \n",
        "W = tf.Variable([1.0], tf.float32)\n",
        "b = tf.Variable([0.0], tf.float32) \n",
        "p = tf.multiply(tf.add(W, x), b) "
      ],
      "execution_count": 0,
      "outputs": []
    },
    {
      "metadata": {
        "id": "50dHE14aROdp",
        "colab_type": "text"
      },
      "cell_type": "markdown",
      "source": [
        "**Model Compile (loss and optimizer)**"
      ]
    },
    {
      "metadata": {
        "id": "9qfM3E9gRVgy",
        "colab_type": "code",
        "colab": {}
      },
      "cell_type": "code",
      "source": [
        "loss = tf.reduce_sum(tf.square(p - y)) \n",
        "train = tf.train.GradientDescentOptimizer(0.01).minimize(loss) "
      ],
      "execution_count": 0,
      "outputs": []
    },
    {
      "metadata": {
        "id": "eMt-dsA5R6xS",
        "colab_type": "text"
      },
      "cell_type": "markdown",
      "source": [
        "**Train Data**"
      ]
    },
    {
      "metadata": {
        "id": "qP-wd62WR_Q6",
        "colab_type": "code",
        "colab": {}
      },
      "cell_type": "code",
      "source": [
        "x_train = [1.0, 2.0, 3.0, 4.0, -4.0, -3.0, -2.0, -1.0]  \n",
        "y_train = [-1.0, -2.0, -3.0, -4.0, 4.0, 3.0, 2.0, 1.0]"
      ],
      "execution_count": 0,
      "outputs": []
    },
    {
      "metadata": {
        "id": "gmSgmMkHSjNh",
        "colab_type": "text"
      },
      "cell_type": "markdown",
      "source": [
        "**Initialize**"
      ]
    },
    {
      "metadata": {
        "id": "PWs81B8OSnH8",
        "colab_type": "code",
        "colab": {}
      },
      "cell_type": "code",
      "source": [
        "init = tf.global_variables_initializer() \n",
        "sess = tf.Session()\n",
        "sess.run(init) "
      ],
      "execution_count": 0,
      "outputs": []
    },
    {
      "metadata": {
        "id": "MdyQjS_4SxYT",
        "colab_type": "text"
      },
      "cell_type": "markdown",
      "source": [
        "**Train Loop**"
      ]
    },
    {
      "metadata": {
        "id": "xIRUlmNyS_YF",
        "colab_type": "code",
        "outputId": "c0a2f865-aac9-446c-f5cf-750484ef9929",
        "colab": {
          "base_uri": "https://localhost:8080/",
          "height": 34
        }
      },
      "cell_type": "code",
      "source": [
        "%%timeit\n",
        "for i in range(1000):\n",
        "    sess.run(train, {x: x_train, y: y_train}) "
      ],
      "execution_count": 6,
      "outputs": [
        {
          "output_type": "stream",
          "text": [
            "1 loop, best of 3: 441 ms per loop\n"
          ],
          "name": "stdout"
        }
      ]
    },
    {
      "metadata": {
        "id": "iqVAX3_6TGYp",
        "colab_type": "text"
      },
      "cell_type": "markdown",
      "source": [
        "**Model Weight and Bias and Loss**"
      ]
    },
    {
      "metadata": {
        "id": "HTyEQaE0Vxjc",
        "colab_type": "code",
        "outputId": "3e621793-5d86-41ab-dacd-ee2e2190a1ad",
        "colab": {
          "base_uri": "https://localhost:8080/",
          "height": 121
        }
      },
      "cell_type": "code",
      "source": [
        "W_, b_, loss_, p_ = sess.run([W, b, loss, p], {x:x_train, y:y_train})\n",
        "print(\"W: %s b: %s loss: %s\" % (W_, b_, loss_))\n",
        "print(\"target:\\n%s\" % (y_train)) \n",
        "print(\"prediction:\\n%s\" % (p_))"
      ],
      "execution_count": 7,
      "outputs": [
        {
          "output_type": "stream",
          "text": [
            "W: [2.9764896e-08] b: [-1.] loss: 0.0\n",
            "target:\n",
            "[-1.0, -2.0, -3.0, -4.0, 4.0, 3.0, 2.0, 1.0]\n",
            "prediction:\n",
            "[-1. -2. -3. -4.  4.  3.  2.  1.]\n"
          ],
          "name": "stdout"
        }
      ]
    }
  ]
}
